{
  "cells": [
    {
      "cell_type": "code",
      "execution_count": null,
      "metadata": {
        "id": "MGJhK0Wy6U2-"
      },
      "outputs": [],
      "source": [
        "import torch\n",
        "from torch import nn\n",
        "from torch.utils.data import DataLoader\n",
        "from torchvision import datasets\n",
        "from torchvision import transforms as T\n",
        "from torchvision.transforms import v2"
      ]
    },
    {
      "cell_type": "code",
      "execution_count": null,
      "metadata": {
        "id": "1FLWsWbK-ylG",
        "colab": {
          "base_uri": "https://localhost:8080/"
        },
        "outputId": "0c6963f1-c396-47be-b76f-4c96dc592192"
      },
      "outputs": [
        {
          "output_type": "stream",
          "name": "stderr",
          "text": [
            "C:\\Users\\erhan\\AppData\\Roaming\\Python\\Python311\\site-packages\\torchvision\\transforms\\v2\\_deprecated.py:42: UserWarning: The transform `ToTensor()` is deprecated and will be removed in a future release. Instead, please use `v2.Compose([v2.ToImage(), v2.ToDtype(torch.float32, scale=True)])`.Output is equivalent up to float precision.\n",
            "  warnings.warn(\n"
          ]
        }
      ],
      "source": [
        "train_transform = v2.Compose([\n",
        "    v2.RandomResizedCrop([320,320], scale=[0.25,1.0], ratio=[1.0,1.0]),\n",
        "    #v2.RandomRotation(180),\n",
        "    v2.RandomPerspective(),\n",
        "    v2.RandomHorizontalFlip(0.5),\n",
        "    #RandomVerticalFlip(0.5)\n",
        "    v2.ToTensor(),\n",
        "    v2.Normalize([0.485, 0.456, 0.406], [0.229, 0.224, 0.225])\n",
        "])\n",
        "\n",
        "test_transform = v2.Compose([\n",
        "  v2.Resize([320,320]),\n",
        "  v2.ToTensor(),\n",
        "  v2.Normalize([0.485, 0.456, 0.406], [0.229, 0.224, 0.225])\n",
        "])"
      ]
    },
    {
      "cell_type": "markdown",
      "metadata": {
        "id": "iWVmTrcs9QGM"
      },
      "source": [
        "Downloading Flowers102 dataset from datasets"
      ]
    },
    {
      "cell_type": "code",
      "execution_count": null,
      "metadata": {
        "id": "2AG1ERmI9WXU"
      },
      "outputs": [],
      "source": [
        "training_data = datasets.Flowers102(root=\"dataset\", split=\"train\", transform=train_transform, download=True)\n",
        "\n",
        "test_data = datasets.Flowers102(root=\"dataset\", split=\"val\", transform=test_transform, download=True)"
      ]
    },
    {
      "cell_type": "code",
      "execution_count": null,
      "metadata": {
        "id": "EiOOyavq-T-y",
        "colab": {
          "base_uri": "https://localhost:8080/"
        },
        "outputId": "a49acf2c-1969-48cf-87de-53ba56ae2ca2"
      },
      "outputs": [
        {
          "output_type": "stream",
          "name": "stdout",
          "text": [
            "Shape of X [N, C, H, W]: torch.Size([64, 3, 320, 320])\n",
            "Shape of y: torch.Size([64]) torch.int64\n"
          ]
        }
      ],
      "source": [
        "batch_size = 64\n",
        "\n",
        "#Create data loaders\n",
        "train_dataloader = DataLoader(training_data, batch_size = batch_size, shuffle=True)\n",
        "test_dataloader = DataLoader(test_data, batch_size=batch_size)\n",
        "\n",
        "for X, y in test_dataloader:\n",
        "  print(f\"Shape of X [N, C, H, W]: {X.shape}\")\n",
        "  print(f\"Shape of y: {y.shape} {y.dtype}\")\n",
        "  break"
      ]
    },
    {
      "cell_type": "markdown",
      "metadata": {
        "id": "JmSelEXPG89W"
      },
      "source": [
        "image mode: RGB\n",
        "varying image size\n"
      ]
    },
    {
      "cell_type": "code",
      "execution_count": null,
      "metadata": {
        "id": "3fL6F9TLEdDR",
        "colab": {
          "base_uri": "https://localhost:8080/"
        },
        "outputId": "3b0146a7-6873-4797-a26c-8ae178714e71"
      },
      "outputs": [
        {
          "output_type": "stream",
          "name": "stdout",
          "text": [
            "Using cuda device\n",
            "NeuralNetwork(\n",
            "  (model): Sequential(\n",
            "    (0): Conv2d(3, 16, kernel_size=(3, 3), stride=(1, 1), padding=(1, 1))\n",
            "    (1): ReLU()\n",
            "    (2): MaxPool2d(kernel_size=2, stride=2, padding=0, dilation=1, ceil_mode=False)\n",
            "    (3): Conv2d(16, 32, kernel_size=(3, 3), stride=(1, 1), padding=(1, 1))\n",
            "    (4): ReLU()\n",
            "    (5): MaxPool2d(kernel_size=2, stride=2, padding=0, dilation=1, ceil_mode=False)\n",
            "    (6): Conv2d(32, 64, kernel_size=(3, 3), stride=(1, 1), padding=(1, 1))\n",
            "    (7): ReLU()\n",
            "    (8): MaxPool2d(kernel_size=2, stride=2, padding=0, dilation=1, ceil_mode=False)\n",
            "    (9): Conv2d(64, 128, kernel_size=(3, 3), stride=(1, 1), padding=(1, 1))\n",
            "    (10): ReLU()\n",
            "    (11): Flatten(start_dim=1, end_dim=-1)\n",
            "    (12): Linear(in_features=204800, out_features=1024, bias=True)\n",
            "    (13): ReLU()\n",
            "    (14): Linear(in_features=1024, out_features=512, bias=True)\n",
            "    (15): ReLU()\n",
            "    (16): Linear(in_features=512, out_features=256, bias=True)\n",
            "    (17): ReLU()\n",
            "    (18): Linear(in_features=256, out_features=102, bias=True)\n",
            "  )\n",
            ")\n"
          ]
        }
      ],
      "source": [
        "#Get cpu, gpu or mps device for training.\n",
        "device = (\n",
        "    \"cuda\"\n",
        "    if torch.cuda.is_available()\n",
        "    else \"mps\"\n",
        "    if torch.backends.mps.is_available()\n",
        "    else \"cpu\"\n",
        ")\n",
        "print(f\"Using {device} device\")\n",
        "\n",
        "#Define model\n",
        "class NeuralNetwork(nn.Module):\n",
        "  def __init__(self):\n",
        "    super(NeuralNetwork, self).__init__()\n",
        "    self.model = nn.Sequential(\n",
        "      nn.Conv2d(3, 16, kernel_size=3, padding=1),\n",
        "      nn.ReLU(),\n",
        "      nn.MaxPool2d(2),\n",
        "      nn.Conv2d(16, 32, kernel_size=3, padding=1),\n",
        "      nn.ReLU(),\n",
        "      nn.MaxPool2d(2),\n",
        "      nn.Conv2d(32, 64, kernel_size=3, padding=1),\n",
        "      nn.ReLU(),\n",
        "      nn.MaxPool2d(2),\n",
        "      nn.Conv2d(64, 128, kernel_size=3, padding=1),\n",
        "      nn.ReLU(),\n",
        "      nn.Flatten(),\n",
        "      nn.Linear(128 * 40 * 40, 1024),\n",
        "      nn.ReLU(),\n",
        "      nn.Linear(1024, 512),\n",
        "      nn.ReLU(),\n",
        "      nn.Linear(512,256),\n",
        "      nn.ReLU(),\n",
        "      nn.Linear(256,102)\n",
        "    )\n",
        "\n",
        "  def forward(self, x):\n",
        "    return self.model(x)\n",
        "\n",
        "model = NeuralNetwork().to(device)\n",
        "print(model)"
      ]
    },
    {
      "cell_type": "code",
      "execution_count": null,
      "metadata": {
        "id": "9IvJsfvwE0VG"
      },
      "outputs": [],
      "source": [
        "loss_fn = nn.CrossEntropyLoss()\n",
        "optimizer = torch.optim.Adam(model.parameters(), lr=0.001, weight_decay=0.005)"
      ]
    },
    {
      "cell_type": "code",
      "execution_count": null,
      "metadata": {
        "id": "o4bMoWUAE1kO"
      },
      "outputs": [],
      "source": [
        "def train(dataloader, model, loss_fn, optimizer):\n",
        "  size = len(dataloader.dataset)\n",
        "  model.train()\n",
        "  for batch, (X, y) in enumerate(dataloader):\n",
        "    X, y = X.to(device), y.to(device)\n",
        "\n",
        "    #Compute prediction error\n",
        "    pred = model(X)\n",
        "    loss = loss_fn(pred, y)\n",
        "\n",
        "    #Backpropagation\n",
        "    optimizer.zero_grad()\n",
        "    loss.backward()\n",
        "    optimizer.step()\n",
        "\n",
        "    if batch % 5 == 0:\n",
        "      loss, current = loss.item(), (batch + 1) * len(X)\n",
        "      print(f\"loss: {loss:>7f} [{current:>5d}/{size:>5d}]\")"
      ]
    },
    {
      "cell_type": "code",
      "execution_count": null,
      "metadata": {
        "id": "y4Mf49itE3A-"
      },
      "outputs": [],
      "source": [
        "def test(dataloader, model, loss_fn):\n",
        "  size = len(dataloader.dataset)\n",
        "  num_batches = len(dataloader)\n",
        "  model.eval()\n",
        "  test_loss, correct = 0, 0\n",
        "  with torch.no_grad():\n",
        "    for X, y in dataloader:\n",
        "      X, y = X.to(device), y.to(device)\n",
        "      pred = model(X)\n",
        "      test_loss += loss_fn(pred, y).item()\n",
        "      correct += (pred.argmax(1) == y).type(torch.float).sum().item()\n",
        "    test_loss /= num_batches\n",
        "    correct /= size\n",
        "    print(f\"Test Error: \\n Accuracy: {(100*correct) :>0.1f}%, Avg loss: {test_loss:>8f} \\n\")"
      ]
    },
    {
      "cell_type": "code",
      "execution_count": null,
      "metadata": {
        "id": "Xr7VD7E3E5y1",
        "colab": {
          "base_uri": "https://localhost:8080/",
          "height": 1000
        },
        "outputId": "52ad80c6-fe16-4b95-8c95-84f582ef3668"
      },
      "outputs": [
        {
          "output_type": "stream",
          "name": "stdout",
          "text": [
            "Epoch 1 \n",
            " ---------------------------------------\n",
            "loss: 4.620936 [   64/ 1020]\n",
            "loss: 4.622182 [  384/ 1020]\n",
            "loss: 4.629573 [  704/ 1020]\n",
            "loss: 4.633657 [  960/ 1020]\n",
            "Test Error: \n",
            " Accuracy: 1.0%, Avg loss: 4.625380 \n",
            "\n",
            "Epoch 2 \n",
            " ---------------------------------------\n",
            "loss: 4.618210 [   64/ 1020]\n",
            "loss: 4.620784 [  384/ 1020]\n",
            "loss: 4.633463 [  704/ 1020]\n",
            "loss: 4.634877 [  960/ 1020]\n",
            "Test Error: \n",
            " Accuracy: 1.0%, Avg loss: 4.625150 \n",
            "\n",
            "Epoch 3 \n",
            " ---------------------------------------\n",
            "loss: 4.625336 [   64/ 1020]\n",
            "loss: 4.632495 [  384/ 1020]\n",
            "loss: 4.624060 [  704/ 1020]\n",
            "loss: 4.625289 [  960/ 1020]\n",
            "Test Error: \n",
            " Accuracy: 1.1%, Avg loss: 4.585633 \n",
            "\n",
            "Epoch 4 \n",
            " ---------------------------------------\n",
            "loss: 4.603209 [   64/ 1020]\n",
            "loss: 4.579970 [  384/ 1020]\n",
            "loss: 4.468671 [  704/ 1020]\n",
            "loss: 4.488828 [  960/ 1020]\n",
            "Test Error: \n",
            " Accuracy: 1.9%, Avg loss: 4.427902 \n",
            "\n",
            "Epoch 5 \n",
            " ---------------------------------------\n",
            "loss: 4.366881 [   64/ 1020]\n",
            "loss: 4.444664 [  384/ 1020]\n",
            "loss: 4.291485 [  704/ 1020]\n",
            "loss: 4.467932 [  960/ 1020]\n",
            "Test Error: \n",
            " Accuracy: 1.7%, Avg loss: 4.319736 \n",
            "\n",
            "Epoch 6 \n",
            " ---------------------------------------\n",
            "loss: 4.302220 [   64/ 1020]\n",
            "loss: 4.324985 [  384/ 1020]\n",
            "loss: 4.215035 [  704/ 1020]\n",
            "loss: 4.310547 [  960/ 1020]\n",
            "Test Error: \n",
            " Accuracy: 1.6%, Avg loss: 4.235611 \n",
            "\n",
            "Epoch 7 \n",
            " ---------------------------------------\n",
            "loss: 4.301852 [   64/ 1020]\n",
            "loss: 4.025914 [  384/ 1020]\n",
            "loss: 4.308556 [  704/ 1020]\n",
            "loss: 4.168827 [  960/ 1020]\n",
            "Test Error: \n",
            " Accuracy: 2.2%, Avg loss: 4.173167 \n",
            "\n",
            "Epoch 8 \n",
            " ---------------------------------------\n",
            "loss: 4.169149 [   64/ 1020]\n",
            "loss: 4.352086 [  384/ 1020]\n",
            "loss: 4.095925 [  704/ 1020]\n",
            "loss: 4.229492 [  960/ 1020]\n",
            "Test Error: \n",
            " Accuracy: 2.2%, Avg loss: 4.150428 \n",
            "\n",
            "Epoch 9 \n",
            " ---------------------------------------\n",
            "loss: 4.168351 [   64/ 1020]\n",
            "loss: 4.065855 [  384/ 1020]\n",
            "loss: 4.080856 [  704/ 1020]\n",
            "loss: 4.071540 [  960/ 1020]\n",
            "Test Error: \n",
            " Accuracy: 2.2%, Avg loss: 4.149471 \n",
            "\n",
            "Epoch 10 \n",
            " ---------------------------------------\n",
            "loss: 4.164589 [   64/ 1020]\n",
            "loss: 4.161718 [  384/ 1020]\n",
            "loss: 4.224123 [  704/ 1020]\n",
            "loss: 4.123600 [  960/ 1020]\n",
            "Test Error: \n",
            " Accuracy: 2.3%, Avg loss: 4.134075 \n",
            "\n",
            "Epoch 11 \n",
            " ---------------------------------------\n",
            "loss: 4.043596 [   64/ 1020]\n",
            "loss: 4.003555 [  384/ 1020]\n",
            "loss: 4.126803 [  704/ 1020]\n",
            "loss: 4.062709 [  960/ 1020]\n",
            "Test Error: \n",
            " Accuracy: 2.0%, Avg loss: 4.130336 \n",
            "\n",
            "Epoch 12 \n",
            " ---------------------------------------\n",
            "loss: 3.982249 [   64/ 1020]\n",
            "loss: 4.055021 [  384/ 1020]\n",
            "loss: 4.141930 [  704/ 1020]\n"
          ]
        },
        {
          "output_type": "error",
          "ename": "KeyboardInterrupt",
          "evalue": "",
          "traceback": [
            "\u001b[1;31m---------------------------------------------------------------------------\u001b[0m",
            "\u001b[1;31mKeyboardInterrupt\u001b[0m                         Traceback (most recent call last)",
            "Cell \u001b[1;32mIn[18], line 4\u001b[0m\n\u001b[0;32m      2\u001b[0m \u001b[38;5;28;01mfor\u001b[39;00m t \u001b[38;5;129;01min\u001b[39;00m \u001b[38;5;28mrange\u001b[39m(epochs):\n\u001b[0;32m      3\u001b[0m   \u001b[38;5;28mprint\u001b[39m(\u001b[38;5;124mf\u001b[39m\u001b[38;5;124m\"\u001b[39m\u001b[38;5;124mEpoch \u001b[39m\u001b[38;5;132;01m{\u001b[39;00mt\u001b[38;5;241m+\u001b[39m\u001b[38;5;241m1\u001b[39m\u001b[38;5;132;01m}\u001b[39;00m\u001b[38;5;124m \u001b[39m\u001b[38;5;130;01m\\n\u001b[39;00m\u001b[38;5;124m ---------------------------------------\u001b[39m\u001b[38;5;124m\"\u001b[39m)\n\u001b[1;32m----> 4\u001b[0m   \u001b[43mtrain\u001b[49m\u001b[43m(\u001b[49m\u001b[43mtrain_dataloader\u001b[49m\u001b[43m,\u001b[49m\u001b[43m \u001b[49m\u001b[43mmodel\u001b[49m\u001b[43m,\u001b[49m\u001b[43m \u001b[49m\u001b[43mloss_fn\u001b[49m\u001b[43m,\u001b[49m\u001b[43m \u001b[49m\u001b[43moptimizer\u001b[49m\u001b[43m)\u001b[49m\n\u001b[0;32m      5\u001b[0m   test(test_dataloader, model, loss_fn)\n\u001b[0;32m      6\u001b[0m \u001b[38;5;28mprint\u001b[39m(\u001b[38;5;124m\"\u001b[39m\u001b[38;5;124mDone!!!!\u001b[39m\u001b[38;5;124m\"\u001b[39m)\n",
            "Cell \u001b[1;32mIn[16], line 5\u001b[0m, in \u001b[0;36mtrain\u001b[1;34m(dataloader, model, loss_fn, optimizer)\u001b[0m\n\u001b[0;32m      3\u001b[0m model\u001b[38;5;241m.\u001b[39mtrain()\n\u001b[0;32m      4\u001b[0m \u001b[38;5;28;01mfor\u001b[39;00m batch, (X, y) \u001b[38;5;129;01min\u001b[39;00m \u001b[38;5;28menumerate\u001b[39m(dataloader):\n\u001b[1;32m----> 5\u001b[0m   X, y \u001b[38;5;241m=\u001b[39m \u001b[43mX\u001b[49m\u001b[38;5;241;43m.\u001b[39;49m\u001b[43mto\u001b[49m\u001b[43m(\u001b[49m\u001b[43mdevice\u001b[49m\u001b[43m)\u001b[49m, y\u001b[38;5;241m.\u001b[39mto(device)\n\u001b[0;32m      7\u001b[0m   \u001b[38;5;66;03m#Compute prediction error\u001b[39;00m\n\u001b[0;32m      8\u001b[0m   pred \u001b[38;5;241m=\u001b[39m model(X)\n",
            "\u001b[1;31mKeyboardInterrupt\u001b[0m: "
          ]
        }
      ],
      "source": [
        "epochs = 60\n",
        "for t in range(epochs):\n",
        "  print(f\"Epoch {t+1} \\n ---------------------------------------\")\n",
        "  train(train_dataloader, model, loss_fn, optimizer)\n",
        "  test(test_dataloader, model, loss_fn)\n",
        "print(\"Done!!!!\")"
      ]
    }
  ],
  "metadata": {
    "accelerator": "GPU",
    "colab": {
      "gpuType": "T4",
      "provenance": []
    },
    "kernelspec": {
      "display_name": "Python 3",
      "name": "python3"
    },
    "language_info": {
      "name": "python"
    }
  },
  "nbformat": 4,
  "nbformat_minor": 0
}